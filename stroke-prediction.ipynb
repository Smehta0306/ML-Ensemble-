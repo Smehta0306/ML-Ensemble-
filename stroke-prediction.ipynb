{
 "cells": [
  {
   "cell_type": "code",
   "execution_count": 1,
   "id": "487bfeb6",
   "metadata": {
    "_cell_guid": "b1076dfc-b9ad-4769-8c92-a6c4dae69d19",
    "_uuid": "8f2839f25d086af736a60e9eeb907d3b93b6e0e5",
    "execution": {
     "iopub.execute_input": "2023-04-27T15:48:39.472934Z",
     "iopub.status.busy": "2023-04-27T15:48:39.472513Z",
     "iopub.status.idle": "2023-04-27T15:48:39.490548Z",
     "shell.execute_reply": "2023-04-27T15:48:39.489624Z"
    },
    "papermill": {
     "duration": 0.034609,
     "end_time": "2023-04-27T15:48:39.493369",
     "exception": false,
     "start_time": "2023-04-27T15:48:39.458760",
     "status": "completed"
    },
    "tags": []
   },
   "outputs": [
    {
     "name": "stdout",
     "output_type": "stream",
     "text": [
      "/kaggle/input/stroke-prediction-dataset/healthcare-dataset-stroke-data.csv\n"
     ]
    }
   ],
   "source": [
    "# This Python 3 environment comes with many helpful analytics libraries installed\n",
    "# It is defined by the kaggle/python Docker image: https://github.com/kaggle/docker-python\n",
    "# For example, here's several helpful packages to load\n",
    "\n",
    "import numpy as np # linear algebra\n",
    "import pandas as pd # data processing, CSV file I/O (e.g. pd.read_csv)\n",
    "\n",
    "# Input data files are available in the read-only \"../input/\" directory\n",
    "# For example, running this (by clicking run or pressing Shift+Enter) will list all files under the input directory\n",
    "\n",
    "import os\n",
    "for dirname, _, filenames in os.walk('/kaggle/input'):\n",
    "    for filename in filenames:\n",
    "        print(os.path.join(dirname, filename))\n",
    "\n",
    "# You can write up to 20GB to the current directory (/kaggle/working/) that gets preserved as output when you create a version using \"Save & Run All\" \n",
    "# You can also write temporary files to /kaggle/temp/, but they won't be saved outside of the current session"
   ]
  },
  {
   "cell_type": "code",
   "execution_count": 2,
   "id": "be32035a",
   "metadata": {
    "execution": {
     "iopub.execute_input": "2023-04-27T15:48:39.518135Z",
     "iopub.status.busy": "2023-04-27T15:48:39.517483Z",
     "iopub.status.idle": "2023-04-27T15:48:39.552435Z",
     "shell.execute_reply": "2023-04-27T15:48:39.551374Z"
    },
    "papermill": {
     "duration": 0.050827,
     "end_time": "2023-04-27T15:48:39.555424",
     "exception": false,
     "start_time": "2023-04-27T15:48:39.504597",
     "status": "completed"
    },
    "tags": []
   },
   "outputs": [],
   "source": [
    "data = pd.read_csv('/kaggle/input/stroke-prediction-dataset/healthcare-dataset-stroke-data.csv')"
   ]
  },
  {
   "cell_type": "code",
   "execution_count": 3,
   "id": "618d8fa8",
   "metadata": {
    "execution": {
     "iopub.execute_input": "2023-04-27T15:48:39.579919Z",
     "iopub.status.busy": "2023-04-27T15:48:39.579132Z",
     "iopub.status.idle": "2023-04-27T15:48:39.610614Z",
     "shell.execute_reply": "2023-04-27T15:48:39.609681Z"
    },
    "papermill": {
     "duration": 0.046948,
     "end_time": "2023-04-27T15:48:39.613581",
     "exception": false,
     "start_time": "2023-04-27T15:48:39.566633",
     "status": "completed"
    },
    "tags": []
   },
   "outputs": [
    {
     "data": {
      "text/html": [
       "<div>\n",
       "<style scoped>\n",
       "    .dataframe tbody tr th:only-of-type {\n",
       "        vertical-align: middle;\n",
       "    }\n",
       "\n",
       "    .dataframe tbody tr th {\n",
       "        vertical-align: top;\n",
       "    }\n",
       "\n",
       "    .dataframe thead th {\n",
       "        text-align: right;\n",
       "    }\n",
       "</style>\n",
       "<table border=\"1\" class=\"dataframe\">\n",
       "  <thead>\n",
       "    <tr style=\"text-align: right;\">\n",
       "      <th></th>\n",
       "      <th>id</th>\n",
       "      <th>gender</th>\n",
       "      <th>age</th>\n",
       "      <th>hypertension</th>\n",
       "      <th>heart_disease</th>\n",
       "      <th>ever_married</th>\n",
       "      <th>work_type</th>\n",
       "      <th>Residence_type</th>\n",
       "      <th>avg_glucose_level</th>\n",
       "      <th>bmi</th>\n",
       "      <th>smoking_status</th>\n",
       "      <th>stroke</th>\n",
       "    </tr>\n",
       "  </thead>\n",
       "  <tbody>\n",
       "    <tr>\n",
       "      <th>0</th>\n",
       "      <td>9046</td>\n",
       "      <td>Male</td>\n",
       "      <td>67.0</td>\n",
       "      <td>0</td>\n",
       "      <td>1</td>\n",
       "      <td>Yes</td>\n",
       "      <td>Private</td>\n",
       "      <td>Urban</td>\n",
       "      <td>228.69</td>\n",
       "      <td>36.6</td>\n",
       "      <td>formerly smoked</td>\n",
       "      <td>1</td>\n",
       "    </tr>\n",
       "    <tr>\n",
       "      <th>1</th>\n",
       "      <td>51676</td>\n",
       "      <td>Female</td>\n",
       "      <td>61.0</td>\n",
       "      <td>0</td>\n",
       "      <td>0</td>\n",
       "      <td>Yes</td>\n",
       "      <td>Self-employed</td>\n",
       "      <td>Rural</td>\n",
       "      <td>202.21</td>\n",
       "      <td>NaN</td>\n",
       "      <td>never smoked</td>\n",
       "      <td>1</td>\n",
       "    </tr>\n",
       "    <tr>\n",
       "      <th>2</th>\n",
       "      <td>31112</td>\n",
       "      <td>Male</td>\n",
       "      <td>80.0</td>\n",
       "      <td>0</td>\n",
       "      <td>1</td>\n",
       "      <td>Yes</td>\n",
       "      <td>Private</td>\n",
       "      <td>Rural</td>\n",
       "      <td>105.92</td>\n",
       "      <td>32.5</td>\n",
       "      <td>never smoked</td>\n",
       "      <td>1</td>\n",
       "    </tr>\n",
       "    <tr>\n",
       "      <th>3</th>\n",
       "      <td>60182</td>\n",
       "      <td>Female</td>\n",
       "      <td>49.0</td>\n",
       "      <td>0</td>\n",
       "      <td>0</td>\n",
       "      <td>Yes</td>\n",
       "      <td>Private</td>\n",
       "      <td>Urban</td>\n",
       "      <td>171.23</td>\n",
       "      <td>34.4</td>\n",
       "      <td>smokes</td>\n",
       "      <td>1</td>\n",
       "    </tr>\n",
       "    <tr>\n",
       "      <th>4</th>\n",
       "      <td>1665</td>\n",
       "      <td>Female</td>\n",
       "      <td>79.0</td>\n",
       "      <td>1</td>\n",
       "      <td>0</td>\n",
       "      <td>Yes</td>\n",
       "      <td>Self-employed</td>\n",
       "      <td>Rural</td>\n",
       "      <td>174.12</td>\n",
       "      <td>24.0</td>\n",
       "      <td>never smoked</td>\n",
       "      <td>1</td>\n",
       "    </tr>\n",
       "  </tbody>\n",
       "</table>\n",
       "</div>"
      ],
      "text/plain": [
       "      id  gender   age  hypertension  heart_disease ever_married  \\\n",
       "0   9046    Male  67.0             0              1          Yes   \n",
       "1  51676  Female  61.0             0              0          Yes   \n",
       "2  31112    Male  80.0             0              1          Yes   \n",
       "3  60182  Female  49.0             0              0          Yes   \n",
       "4   1665  Female  79.0             1              0          Yes   \n",
       "\n",
       "       work_type Residence_type  avg_glucose_level   bmi   smoking_status  \\\n",
       "0        Private          Urban             228.69  36.6  formerly smoked   \n",
       "1  Self-employed          Rural             202.21   NaN     never smoked   \n",
       "2        Private          Rural             105.92  32.5     never smoked   \n",
       "3        Private          Urban             171.23  34.4           smokes   \n",
       "4  Self-employed          Rural             174.12  24.0     never smoked   \n",
       "\n",
       "   stroke  \n",
       "0       1  \n",
       "1       1  \n",
       "2       1  \n",
       "3       1  \n",
       "4       1  "
      ]
     },
     "execution_count": 3,
     "metadata": {},
     "output_type": "execute_result"
    }
   ],
   "source": [
    "data.head()"
   ]
  },
  {
   "cell_type": "code",
   "execution_count": 4,
   "id": "fee08d86",
   "metadata": {
    "execution": {
     "iopub.execute_input": "2023-04-27T15:48:39.640134Z",
     "iopub.status.busy": "2023-04-27T15:48:39.639465Z",
     "iopub.status.idle": "2023-04-27T15:48:39.666907Z",
     "shell.execute_reply": "2023-04-27T15:48:39.664846Z"
    },
    "papermill": {
     "duration": 0.044796,
     "end_time": "2023-04-27T15:48:39.669698",
     "exception": false,
     "start_time": "2023-04-27T15:48:39.624902",
     "status": "completed"
    },
    "tags": []
   },
   "outputs": [
    {
     "name": "stdout",
     "output_type": "stream",
     "text": [
      "<class 'pandas.core.frame.DataFrame'>\n",
      "RangeIndex: 5110 entries, 0 to 5109\n",
      "Data columns (total 12 columns):\n",
      " #   Column             Non-Null Count  Dtype  \n",
      "---  ------             --------------  -----  \n",
      " 0   id                 5110 non-null   int64  \n",
      " 1   gender             5110 non-null   object \n",
      " 2   age                5110 non-null   float64\n",
      " 3   hypertension       5110 non-null   int64  \n",
      " 4   heart_disease      5110 non-null   int64  \n",
      " 5   ever_married       5110 non-null   object \n",
      " 6   work_type          5110 non-null   object \n",
      " 7   Residence_type     5110 non-null   object \n",
      " 8   avg_glucose_level  5110 non-null   float64\n",
      " 9   bmi                4909 non-null   float64\n",
      " 10  smoking_status     5110 non-null   object \n",
      " 11  stroke             5110 non-null   int64  \n",
      "dtypes: float64(3), int64(4), object(5)\n",
      "memory usage: 479.2+ KB\n"
     ]
    }
   ],
   "source": [
    "data.info()"
   ]
  },
  {
   "cell_type": "code",
   "execution_count": 5,
   "id": "1522869e",
   "metadata": {
    "execution": {
     "iopub.execute_input": "2023-04-27T15:48:39.694498Z",
     "iopub.status.busy": "2023-04-27T15:48:39.693747Z",
     "iopub.status.idle": "2023-04-27T15:48:39.702140Z",
     "shell.execute_reply": "2023-04-27T15:48:39.700900Z"
    },
    "papermill": {
     "duration": 0.02371,
     "end_time": "2023-04-27T15:48:39.704734",
     "exception": false,
     "start_time": "2023-04-27T15:48:39.681024",
     "status": "completed"
    },
    "tags": []
   },
   "outputs": [
    {
     "data": {
      "text/plain": [
       "array(['Private', 'Self-employed', 'Govt_job', 'children', 'Never_worked'],\n",
       "      dtype=object)"
      ]
     },
     "execution_count": 5,
     "metadata": {},
     "output_type": "execute_result"
    }
   ],
   "source": [
    "data['work_type'].unique()"
   ]
  },
  {
   "cell_type": "code",
   "execution_count": 6,
   "id": "8e90822f",
   "metadata": {
    "execution": {
     "iopub.execute_input": "2023-04-27T15:48:39.730102Z",
     "iopub.status.busy": "2023-04-27T15:48:39.728981Z",
     "iopub.status.idle": "2023-04-27T15:48:39.738139Z",
     "shell.execute_reply": "2023-04-27T15:48:39.736872Z"
    },
    "papermill": {
     "duration": 0.024651,
     "end_time": "2023-04-27T15:48:39.740757",
     "exception": false,
     "start_time": "2023-04-27T15:48:39.716106",
     "status": "completed"
    },
    "tags": []
   },
   "outputs": [
    {
     "data": {
      "text/plain": [
       "array(['Urban', 'Rural'], dtype=object)"
      ]
     },
     "execution_count": 6,
     "metadata": {},
     "output_type": "execute_result"
    }
   ],
   "source": [
    "data['Residence_type'].unique()"
   ]
  },
  {
   "cell_type": "code",
   "execution_count": 7,
   "id": "d00a28d0",
   "metadata": {
    "execution": {
     "iopub.execute_input": "2023-04-27T15:48:39.765786Z",
     "iopub.status.busy": "2023-04-27T15:48:39.765384Z",
     "iopub.status.idle": "2023-04-27T15:48:39.773186Z",
     "shell.execute_reply": "2023-04-27T15:48:39.771877Z"
    },
    "papermill": {
     "duration": 0.023472,
     "end_time": "2023-04-27T15:48:39.775813",
     "exception": false,
     "start_time": "2023-04-27T15:48:39.752341",
     "status": "completed"
    },
    "tags": []
   },
   "outputs": [],
   "source": [
    "data['hypertension']= data['hypertension'].apply(lambda x: 'yes' if x==1 else 'no')"
   ]
  },
  {
   "cell_type": "code",
   "execution_count": 8,
   "id": "e995e067",
   "metadata": {
    "execution": {
     "iopub.execute_input": "2023-04-27T15:48:39.800989Z",
     "iopub.status.busy": "2023-04-27T15:48:39.800578Z",
     "iopub.status.idle": "2023-04-27T15:48:39.808662Z",
     "shell.execute_reply": "2023-04-27T15:48:39.807367Z"
    },
    "papermill": {
     "duration": 0.023561,
     "end_time": "2023-04-27T15:48:39.811076",
     "exception": false,
     "start_time": "2023-04-27T15:48:39.787515",
     "status": "completed"
    },
    "tags": []
   },
   "outputs": [
    {
     "data": {
      "text/plain": [
       "array(['no', 'yes'], dtype=object)"
      ]
     },
     "execution_count": 8,
     "metadata": {},
     "output_type": "execute_result"
    }
   ],
   "source": [
    "data['hypertension'].unique()"
   ]
  },
  {
   "cell_type": "code",
   "execution_count": 9,
   "id": "4b00caec",
   "metadata": {
    "execution": {
     "iopub.execute_input": "2023-04-27T15:48:39.836633Z",
     "iopub.status.busy": "2023-04-27T15:48:39.835783Z",
     "iopub.status.idle": "2023-04-27T15:48:39.844491Z",
     "shell.execute_reply": "2023-04-27T15:48:39.843142Z"
    },
    "papermill": {
     "duration": 0.02425,
     "end_time": "2023-04-27T15:48:39.846964",
     "exception": false,
     "start_time": "2023-04-27T15:48:39.822714",
     "status": "completed"
    },
    "tags": []
   },
   "outputs": [],
   "source": [
    "data['heart_disease']= data['heart_disease'].apply(lambda x: 'yes' if x==1 else 'no')"
   ]
  },
  {
   "cell_type": "code",
   "execution_count": 10,
   "id": "8e091daa",
   "metadata": {
    "execution": {
     "iopub.execute_input": "2023-04-27T15:48:39.872258Z",
     "iopub.status.busy": "2023-04-27T15:48:39.871838Z",
     "iopub.status.idle": "2023-04-27T15:48:39.879649Z",
     "shell.execute_reply": "2023-04-27T15:48:39.878358Z"
    },
    "papermill": {
     "duration": 0.02345,
     "end_time": "2023-04-27T15:48:39.882066",
     "exception": false,
     "start_time": "2023-04-27T15:48:39.858616",
     "status": "completed"
    },
    "tags": []
   },
   "outputs": [
    {
     "data": {
      "text/plain": [
       "array(['yes', 'no'], dtype=object)"
      ]
     },
     "execution_count": 10,
     "metadata": {},
     "output_type": "execute_result"
    }
   ],
   "source": [
    "data['heart_disease'].unique()"
   ]
  },
  {
   "cell_type": "code",
   "execution_count": 11,
   "id": "7d55f1ab",
   "metadata": {
    "execution": {
     "iopub.execute_input": "2023-04-27T15:48:39.908724Z",
     "iopub.status.busy": "2023-04-27T15:48:39.907937Z",
     "iopub.status.idle": "2023-04-27T15:48:39.916329Z",
     "shell.execute_reply": "2023-04-27T15:48:39.915363Z"
    },
    "papermill": {
     "duration": 0.024418,
     "end_time": "2023-04-27T15:48:39.918667",
     "exception": false,
     "start_time": "2023-04-27T15:48:39.894249",
     "status": "completed"
    },
    "tags": []
   },
   "outputs": [
    {
     "data": {
      "text/plain": [
       "array(['formerly smoked', 'never smoked', 'smokes', 'Unknown'],\n",
       "      dtype=object)"
      ]
     },
     "execution_count": 11,
     "metadata": {},
     "output_type": "execute_result"
    }
   ],
   "source": [
    "data['smoking_status'].unique()"
   ]
  },
  {
   "cell_type": "code",
   "execution_count": 12,
   "id": "f8eefbc8",
   "metadata": {
    "execution": {
     "iopub.execute_input": "2023-04-27T15:48:39.944362Z",
     "iopub.status.busy": "2023-04-27T15:48:39.943682Z",
     "iopub.status.idle": "2023-04-27T15:48:39.953177Z",
     "shell.execute_reply": "2023-04-27T15:48:39.951923Z"
    },
    "papermill": {
     "duration": 0.025691,
     "end_time": "2023-04-27T15:48:39.956068",
     "exception": false,
     "start_time": "2023-04-27T15:48:39.930377",
     "status": "completed"
    },
    "tags": []
   },
   "outputs": [],
   "source": [
    "data = data.drop('id',axis='columns')"
   ]
  },
  {
   "cell_type": "code",
   "execution_count": 13,
   "id": "c62a629f",
   "metadata": {
    "execution": {
     "iopub.execute_input": "2023-04-27T15:48:39.982753Z",
     "iopub.status.busy": "2023-04-27T15:48:39.981921Z",
     "iopub.status.idle": "2023-04-27T15:48:40.001018Z",
     "shell.execute_reply": "2023-04-27T15:48:39.999752Z"
    },
    "papermill": {
     "duration": 0.035635,
     "end_time": "2023-04-27T15:48:40.003408",
     "exception": false,
     "start_time": "2023-04-27T15:48:39.967773",
     "status": "completed"
    },
    "tags": []
   },
   "outputs": [
    {
     "data": {
      "text/html": [
       "<div>\n",
       "<style scoped>\n",
       "    .dataframe tbody tr th:only-of-type {\n",
       "        vertical-align: middle;\n",
       "    }\n",
       "\n",
       "    .dataframe tbody tr th {\n",
       "        vertical-align: top;\n",
       "    }\n",
       "\n",
       "    .dataframe thead th {\n",
       "        text-align: right;\n",
       "    }\n",
       "</style>\n",
       "<table border=\"1\" class=\"dataframe\">\n",
       "  <thead>\n",
       "    <tr style=\"text-align: right;\">\n",
       "      <th></th>\n",
       "      <th>gender</th>\n",
       "      <th>age</th>\n",
       "      <th>hypertension</th>\n",
       "      <th>heart_disease</th>\n",
       "      <th>ever_married</th>\n",
       "      <th>work_type</th>\n",
       "      <th>Residence_type</th>\n",
       "      <th>avg_glucose_level</th>\n",
       "      <th>bmi</th>\n",
       "      <th>smoking_status</th>\n",
       "      <th>stroke</th>\n",
       "    </tr>\n",
       "  </thead>\n",
       "  <tbody>\n",
       "    <tr>\n",
       "      <th>0</th>\n",
       "      <td>Male</td>\n",
       "      <td>67.0</td>\n",
       "      <td>no</td>\n",
       "      <td>yes</td>\n",
       "      <td>Yes</td>\n",
       "      <td>Private</td>\n",
       "      <td>Urban</td>\n",
       "      <td>228.69</td>\n",
       "      <td>36.6</td>\n",
       "      <td>formerly smoked</td>\n",
       "      <td>1</td>\n",
       "    </tr>\n",
       "    <tr>\n",
       "      <th>1</th>\n",
       "      <td>Female</td>\n",
       "      <td>61.0</td>\n",
       "      <td>no</td>\n",
       "      <td>no</td>\n",
       "      <td>Yes</td>\n",
       "      <td>Self-employed</td>\n",
       "      <td>Rural</td>\n",
       "      <td>202.21</td>\n",
       "      <td>NaN</td>\n",
       "      <td>never smoked</td>\n",
       "      <td>1</td>\n",
       "    </tr>\n",
       "    <tr>\n",
       "      <th>2</th>\n",
       "      <td>Male</td>\n",
       "      <td>80.0</td>\n",
       "      <td>no</td>\n",
       "      <td>yes</td>\n",
       "      <td>Yes</td>\n",
       "      <td>Private</td>\n",
       "      <td>Rural</td>\n",
       "      <td>105.92</td>\n",
       "      <td>32.5</td>\n",
       "      <td>never smoked</td>\n",
       "      <td>1</td>\n",
       "    </tr>\n",
       "    <tr>\n",
       "      <th>3</th>\n",
       "      <td>Female</td>\n",
       "      <td>49.0</td>\n",
       "      <td>no</td>\n",
       "      <td>no</td>\n",
       "      <td>Yes</td>\n",
       "      <td>Private</td>\n",
       "      <td>Urban</td>\n",
       "      <td>171.23</td>\n",
       "      <td>34.4</td>\n",
       "      <td>smokes</td>\n",
       "      <td>1</td>\n",
       "    </tr>\n",
       "    <tr>\n",
       "      <th>4</th>\n",
       "      <td>Female</td>\n",
       "      <td>79.0</td>\n",
       "      <td>yes</td>\n",
       "      <td>no</td>\n",
       "      <td>Yes</td>\n",
       "      <td>Self-employed</td>\n",
       "      <td>Rural</td>\n",
       "      <td>174.12</td>\n",
       "      <td>24.0</td>\n",
       "      <td>never smoked</td>\n",
       "      <td>1</td>\n",
       "    </tr>\n",
       "  </tbody>\n",
       "</table>\n",
       "</div>"
      ],
      "text/plain": [
       "   gender   age hypertension heart_disease ever_married      work_type  \\\n",
       "0    Male  67.0           no           yes          Yes        Private   \n",
       "1  Female  61.0           no            no          Yes  Self-employed   \n",
       "2    Male  80.0           no           yes          Yes        Private   \n",
       "3  Female  49.0           no            no          Yes        Private   \n",
       "4  Female  79.0          yes            no          Yes  Self-employed   \n",
       "\n",
       "  Residence_type  avg_glucose_level   bmi   smoking_status  stroke  \n",
       "0          Urban             228.69  36.6  formerly smoked       1  \n",
       "1          Rural             202.21   NaN     never smoked       1  \n",
       "2          Rural             105.92  32.5     never smoked       1  \n",
       "3          Urban             171.23  34.4           smokes       1  \n",
       "4          Rural             174.12  24.0     never smoked       1  "
      ]
     },
     "execution_count": 13,
     "metadata": {},
     "output_type": "execute_result"
    }
   ],
   "source": [
    "data.head()"
   ]
  },
  {
   "cell_type": "code",
   "execution_count": 14,
   "id": "a3b271b2",
   "metadata": {
    "execution": {
     "iopub.execute_input": "2023-04-27T15:48:40.029788Z",
     "iopub.status.busy": "2023-04-27T15:48:40.029082Z",
     "iopub.status.idle": "2023-04-27T15:48:40.040979Z",
     "shell.execute_reply": "2023-04-27T15:48:40.039579Z"
    },
    "papermill": {
     "duration": 0.028352,
     "end_time": "2023-04-27T15:48:40.043706",
     "exception": false,
     "start_time": "2023-04-27T15:48:40.015354",
     "status": "completed"
    },
    "tags": []
   },
   "outputs": [
    {
     "data": {
      "text/plain": [
       "gender                 0\n",
       "age                    0\n",
       "hypertension           0\n",
       "heart_disease          0\n",
       "ever_married           0\n",
       "work_type              0\n",
       "Residence_type         0\n",
       "avg_glucose_level      0\n",
       "bmi                  201\n",
       "smoking_status         0\n",
       "stroke                 0\n",
       "dtype: int64"
      ]
     },
     "execution_count": 14,
     "metadata": {},
     "output_type": "execute_result"
    }
   ],
   "source": [
    "data.isna().sum()"
   ]
  },
  {
   "cell_type": "code",
   "execution_count": 15,
   "id": "66bca539",
   "metadata": {
    "execution": {
     "iopub.execute_input": "2023-04-27T15:48:40.070107Z",
     "iopub.status.busy": "2023-04-27T15:48:40.069712Z",
     "iopub.status.idle": "2023-04-27T15:48:40.076744Z",
     "shell.execute_reply": "2023-04-27T15:48:40.075592Z"
    },
    "papermill": {
     "duration": 0.023125,
     "end_time": "2023-04-27T15:48:40.079035",
     "exception": false,
     "start_time": "2023-04-27T15:48:40.055910",
     "status": "completed"
    },
    "tags": []
   },
   "outputs": [
    {
     "data": {
      "text/plain": [
       "(5110, 11)"
      ]
     },
     "execution_count": 15,
     "metadata": {},
     "output_type": "execute_result"
    }
   ],
   "source": [
    "data.shape"
   ]
  },
  {
   "cell_type": "code",
   "execution_count": 16,
   "id": "63b088e3",
   "metadata": {
    "execution": {
     "iopub.execute_input": "2023-04-27T15:48:40.105716Z",
     "iopub.status.busy": "2023-04-27T15:48:40.105273Z",
     "iopub.status.idle": "2023-04-27T15:48:40.112375Z",
     "shell.execute_reply": "2023-04-27T15:48:40.111230Z"
    },
    "papermill": {
     "duration": 0.023699,
     "end_time": "2023-04-27T15:48:40.114980",
     "exception": false,
     "start_time": "2023-04-27T15:48:40.091281",
     "status": "completed"
    },
    "tags": []
   },
   "outputs": [],
   "source": [
    "data['bmi'] = data['bmi'].fillna(data['bmi'].median())\n"
   ]
  },
  {
   "cell_type": "code",
   "execution_count": 17,
   "id": "07171b27",
   "metadata": {
    "execution": {
     "iopub.execute_input": "2023-04-27T15:48:40.141712Z",
     "iopub.status.busy": "2023-04-27T15:48:40.141245Z",
     "iopub.status.idle": "2023-04-27T15:48:40.153254Z",
     "shell.execute_reply": "2023-04-27T15:48:40.152155Z"
    },
    "papermill": {
     "duration": 0.028493,
     "end_time": "2023-04-27T15:48:40.156010",
     "exception": false,
     "start_time": "2023-04-27T15:48:40.127517",
     "status": "completed"
    },
    "tags": []
   },
   "outputs": [
    {
     "data": {
      "text/plain": [
       "gender               0\n",
       "age                  0\n",
       "hypertension         0\n",
       "heart_disease        0\n",
       "ever_married         0\n",
       "work_type            0\n",
       "Residence_type       0\n",
       "avg_glucose_level    0\n",
       "bmi                  0\n",
       "smoking_status       0\n",
       "stroke               0\n",
       "dtype: int64"
      ]
     },
     "execution_count": 17,
     "metadata": {},
     "output_type": "execute_result"
    }
   ],
   "source": [
    "data.isna().sum()"
   ]
  },
  {
   "cell_type": "code",
   "execution_count": 18,
   "id": "1c99890a",
   "metadata": {
    "execution": {
     "iopub.execute_input": "2023-04-27T15:48:40.182671Z",
     "iopub.status.busy": "2023-04-27T15:48:40.182221Z",
     "iopub.status.idle": "2023-04-27T15:48:40.198497Z",
     "shell.execute_reply": "2023-04-27T15:48:40.196643Z"
    },
    "papermill": {
     "duration": 0.032745,
     "end_time": "2023-04-27T15:48:40.201147",
     "exception": false,
     "start_time": "2023-04-27T15:48:40.168402",
     "status": "completed"
    },
    "tags": []
   },
   "outputs": [
    {
     "name": "stdout",
     "output_type": "stream",
     "text": [
      "<class 'pandas.core.frame.DataFrame'>\n",
      "RangeIndex: 5110 entries, 0 to 5109\n",
      "Data columns (total 11 columns):\n",
      " #   Column             Non-Null Count  Dtype  \n",
      "---  ------             --------------  -----  \n",
      " 0   gender             5110 non-null   object \n",
      " 1   age                5110 non-null   float64\n",
      " 2   hypertension       5110 non-null   object \n",
      " 3   heart_disease      5110 non-null   object \n",
      " 4   ever_married       5110 non-null   object \n",
      " 5   work_type          5110 non-null   object \n",
      " 6   Residence_type     5110 non-null   object \n",
      " 7   avg_glucose_level  5110 non-null   float64\n",
      " 8   bmi                5110 non-null   float64\n",
      " 9   smoking_status     5110 non-null   object \n",
      " 10  stroke             5110 non-null   int64  \n",
      "dtypes: float64(3), int64(1), object(7)\n",
      "memory usage: 439.3+ KB\n"
     ]
    }
   ],
   "source": [
    "data.info()"
   ]
  },
  {
   "cell_type": "code",
   "execution_count": 19,
   "id": "0d7ad825",
   "metadata": {
    "execution": {
     "iopub.execute_input": "2023-04-27T15:48:40.228533Z",
     "iopub.status.busy": "2023-04-27T15:48:40.228076Z",
     "iopub.status.idle": "2023-04-27T15:48:41.417172Z",
     "shell.execute_reply": "2023-04-27T15:48:41.415788Z"
    },
    "papermill": {
     "duration": 1.206385,
     "end_time": "2023-04-27T15:48:41.420264",
     "exception": false,
     "start_time": "2023-04-27T15:48:40.213879",
     "status": "completed"
    },
    "tags": []
   },
   "outputs": [],
   "source": [
    "import seaborn as sns"
   ]
  },
  {
   "cell_type": "code",
   "execution_count": 20,
   "id": "529f6a5d",
   "metadata": {
    "execution": {
     "iopub.execute_input": "2023-04-27T15:48:41.449225Z",
     "iopub.status.busy": "2023-04-27T15:48:41.448652Z",
     "iopub.status.idle": "2023-04-27T15:48:41.456002Z",
     "shell.execute_reply": "2023-04-27T15:48:41.454095Z"
    },
    "papermill": {
     "duration": 0.025447,
     "end_time": "2023-04-27T15:48:41.459013",
     "exception": false,
     "start_time": "2023-04-27T15:48:41.433566",
     "status": "completed"
    },
    "tags": []
   },
   "outputs": [],
   "source": [
    "import matplotlib.pyplot as plt"
   ]
  },
  {
   "cell_type": "code",
   "execution_count": 21,
   "id": "025ee684",
   "metadata": {
    "execution": {
     "iopub.execute_input": "2023-04-27T15:48:41.487287Z",
     "iopub.status.busy": "2023-04-27T15:48:41.486817Z",
     "iopub.status.idle": "2023-04-27T15:48:41.703996Z",
     "shell.execute_reply": "2023-04-27T15:48:41.702717Z"
    },
    "papermill": {
     "duration": 0.234063,
     "end_time": "2023-04-27T15:48:41.707020",
     "exception": false,
     "start_time": "2023-04-27T15:48:41.472957",
     "status": "completed"
    },
    "tags": []
   },
   "outputs": [
    {
     "data": {
      "text/plain": [
       "<AxesSubplot:>"
      ]
     },
     "execution_count": 21,
     "metadata": {},
     "output_type": "execute_result"
    },
    {
     "data": {
      "image/png": "[encoded data removed]",
      "text/plain": [
       "<Figure size 1000x200 with 1 Axes>"
      ]
     },
     "metadata": {},
     "output_type": "display_data"
    }
   ],
   "source": [
    "fig,ax = plt.subplots(figsize=(10,2))\n",
    "sns.boxplot(data.age)"
   ]
  },
  {
   "cell_type": "code",
   "execution_count": 22,
   "id": "663b4ca0",
   "metadata": {
    "execution": {
     "iopub.execute_input": "2023-04-27T15:48:41.735530Z",
     "iopub.status.busy": "2023-04-27T15:48:41.735086Z",
     "iopub.status.idle": "2023-04-27T15:48:41.935102Z",
     "shell.execute_reply": "2023-04-27T15:48:41.933536Z"
    },
    "papermill": {
     "duration": 0.217397,
     "end_time": "2023-04-27T15:48:41.937886",
     "exception": false,
     "start_time": "2023-04-27T15:48:41.720489",
     "status": "completed"
    },
    "tags": []
   },
   "outputs": [
    {
     "data": {
      "text/plain": [
       "<AxesSubplot:>"
      ]
     },
     "execution_count": 22,
     "metadata": {},
     "output_type": "execute_result"
    },
    {
     "data": {
      "image/png": "[encoded data removed]",
      "text/plain": [
       "<Figure size 640x480 with 1 Axes>"
      ]
     },
     "metadata": {},
     "output_type": "display_data"
    }
   ],
   "source": [
    "sns.boxplot(data.avg_glucose_level)"
   ]
  },
  {
   "cell_type": "code",
   "execution_count": 23,
   "id": "e2669eb7",
   "metadata": {
    "execution": {
     "iopub.execute_input": "2023-04-27T15:48:41.966344Z",
     "iopub.status.busy": "2023-04-27T15:48:41.965217Z",
     "iopub.status.idle": "2023-04-27T15:48:42.344323Z",
     "shell.execute_reply": "2023-04-27T15:48:42.343375Z"
    },
    "papermill": {
     "duration": 0.396023,
     "end_time": "2023-04-27T15:48:42.346966",
     "exception": false,
     "start_time": "2023-04-27T15:48:41.950943",
     "status": "completed"
    },
    "tags": []
   },
   "outputs": [
    {
     "name": "stderr",
     "output_type": "stream",
     "text": [
      "/opt/conda/lib/python3.7/site-packages/ipykernel_launcher.py:1: UserWarning: \n",
      "\n",
      "`distplot` is a deprecated function and will be removed in seaborn v0.14.0.\n",
      "\n",
      "Please adapt your code to use either `displot` (a figure-level function with\n",
      "similar flexibility) or `histplot` (an axes-level function for histograms).\n",
      "\n",
      "For a guide to updating your code to use the new functions, please see\n",
      "https://gist.github.com/mwaskom/de44147ed2974457ad6372750bbe5751\n",
      "\n",
      "  \"\"\"Entry point for launching an IPython kernel.\n"
     ]
    },
    {
     "data": {
      "text/plain": [
       "<AxesSubplot:xlabel='avg_glucose_level', ylabel='Density'>"
      ]
     },
     "execution_count": 23,
     "metadata": {},
     "output_type": "execute_result"
    },
    {
     "data": {
      "image/png": "[encoded data removed]",
      "text/plain": [
       "<Figure size 640x480 with 1 Axes>"
      ]
     },
     "metadata": {},
     "output_type": "display_data"
    }
   ],
   "source": [
    "sns.distplot(data.avg_glucose_level)"
   ]
  },
  {
   "cell_type": "code",
   "execution_count": 24,
   "id": "b7453cb2",
   "metadata": {
    "execution": {
     "iopub.execute_input": "2023-04-27T15:48:42.377493Z",
     "iopub.status.busy": "2023-04-27T15:48:42.376552Z",
     "iopub.status.idle": "2023-04-27T15:48:43.708491Z",
     "shell.execute_reply": "2023-04-27T15:48:43.706932Z"
    },
    "papermill": {
     "duration": 1.350814,
     "end_time": "2023-04-27T15:48:43.712148",
     "exception": false,
     "start_time": "2023-04-27T15:48:42.361334",
     "status": "completed"
    },
    "tags": []
   },
   "outputs": [
    {
     "name": "stdout",
     "output_type": "stream",
     "text": [
      "outlier in dataset is [252.72, 243.58, 259.63, 249.31, 263.32, 271.74, 242.52, 250.89, 247.51, 243.53, 242.3, 243.5, 251.6, 247.69, 250.2, 254.6, 254.63, 246.34, 251.46, 267.76, 246.53, 244.28, 251.99, 253.16, 242.84, 249.29, 242.94, 247.48, 266.59, 243.73, 243.59, 250.8, 255.17, 267.61, 260.85, 248.37, 263.56, 247.97, 248.24, 253.93, 254.95, 247.87, 261.67, 256.74, 244.3, 242.62, 243.52, 267.6, 253.86]\n",
      "minimum of the outlier list 242.3\n",
      "Median of the column excluding outliers--> 91.60499999999999\n"
     ]
    }
   ],
   "source": [
    "threshold = 3\n",
    "outlier = []\n",
    "for i in data['avg_glucose_level']:\n",
    "    z = (i-data['avg_glucose_level'].mean())/data['avg_glucose_level'].std()\n",
    "    if z > threshold:\n",
    "        outlier.append(i)\n",
    "print('outlier in dataset is', outlier)\n",
    "print('minimum of the outlier list', min(outlier))\n",
    "## calculate the median for the column excluding the outlier\n",
    "med = data.loc[data['avg_glucose_level']<= min(outlier), 'avg_glucose_level'].median()\n",
    "print('Median of the column excluding outliers-->',med)\n",
    "f = lambda x: med if x>= min(outlier) else x\n",
    "data['out_avg_glucose_level'] = data['avg_glucose_level'].map(f)\n",
    "max(data['out_avg_glucose_level'])\n",
    "data.drop(['avg_glucose_level'], axis=1,inplace = True)"
   ]
  },
  {
   "cell_type": "code",
   "execution_count": 25,
   "id": "84d74c39",
   "metadata": {
    "execution": {
     "iopub.execute_input": "2023-04-27T15:48:43.743253Z",
     "iopub.status.busy": "2023-04-27T15:48:43.742147Z",
     "iopub.status.idle": "2023-04-27T15:48:43.956636Z",
     "shell.execute_reply": "2023-04-27T15:48:43.955734Z"
    },
    "papermill": {
     "duration": 0.232733,
     "end_time": "2023-04-27T15:48:43.959186",
     "exception": false,
     "start_time": "2023-04-27T15:48:43.726453",
     "status": "completed"
    },
    "tags": []
   },
   "outputs": [
    {
     "data": {
      "text/plain": [
       "<AxesSubplot:>"
      ]
     },
     "execution_count": 25,
     "metadata": {},
     "output_type": "execute_result"
    },
    {
     "data": {
      "image/png": "[encoded data removed]",
      "text/plain": [
       "<Figure size 640x480 with 1 Axes>"
      ]
     },
     "metadata": {},
     "output_type": "display_data"
    }
   ],
   "source": [
    "sns.boxplot(data.out_avg_glucose_level)"
   ]
  },
  {
   "cell_type": "code",
   "execution_count": 26,
   "id": "3a244c92",
   "metadata": {
    "execution": {
     "iopub.execute_input": "2023-04-27T15:48:43.990165Z",
     "iopub.status.busy": "2023-04-27T15:48:43.989469Z",
     "iopub.status.idle": "2023-04-27T15:48:45.314821Z",
     "shell.execute_reply": "2023-04-27T15:48:45.313107Z"
    },
    "papermill": {
     "duration": 1.343781,
     "end_time": "2023-04-27T15:48:45.317384",
     "exception": false,
     "start_time": "2023-04-27T15:48:43.973603",
     "status": "completed"
    },
    "tags": []
   },
   "outputs": [
    {
     "name": "stdout",
     "output_type": "stream",
     "text": [
      "outlier in dataset is [237.75, 240.09, 235.63, 240.59, 239.07, 233.94, 234.58, 235.85, 239.64, 239.82, 240.71, 237.15, 236.84, 239.52, 237.21, 237.58, 238.53, 237.17, 233.52, 234.82, 237.74, 240.81, 239.28, 233.71, 235.54, 236.14, 239.95, 240.86, 235.45, 238.78, 233.59, 236.79, 239.19, 234.35, 234.27, 239.21, 236.04, 234.5, 235.06, 234.06, 234.45, 240.69, 234.51, 238.27]\n",
      "minimum of the outlier list 233.52\n",
      "Median of the column excluding outliers--> 91.60499999999999\n"
     ]
    }
   ],
   "source": [
    "threshold = 3\n",
    "outlier = []\n",
    "for i in data['out_avg_glucose_level']:\n",
    "    z = (i-data['out_avg_glucose_level'].mean())/data['out_avg_glucose_level'].std()\n",
    "    if z > threshold:\n",
    "        outlier.append(i)\n",
    "print('outlier in dataset is', outlier)\n",
    "print('minimum of the outlier list', min(outlier))\n",
    "## calculate the median for the column excluding the outlier\n",
    "med = data.loc[data['out_avg_glucose_level']<= min(outlier), 'out_avg_glucose_level'].median()\n",
    "print('Median of the column excluding outliers-->',med)\n",
    "f = lambda x: med if x>= min(outlier) else x\n",
    "data['out_avg_glucose_level1'] = data['out_avg_glucose_level'].map(f)\n",
    "max(data['out_avg_glucose_level1'])\n",
    "data.drop(['out_avg_glucose_level'], axis=1,inplace = True)"
   ]
  },
  {
   "cell_type": "code",
   "execution_count": 27,
   "id": "f3c89cfc",
   "metadata": {
    "execution": {
     "iopub.execute_input": "2023-04-27T15:48:45.349995Z",
     "iopub.status.busy": "2023-04-27T15:48:45.349270Z",
     "iopub.status.idle": "2023-04-27T15:48:45.562639Z",
     "shell.execute_reply": "2023-04-27T15:48:45.561348Z"
    },
    "papermill": {
     "duration": 0.232017,
     "end_time": "2023-04-27T15:48:45.565194",
     "exception": false,
     "start_time": "2023-04-27T15:48:45.333177",
     "status": "completed"
    },
    "tags": []
   },
   "outputs": [
    {
     "data": {
      "text/plain": [
       "<AxesSubplot:>"
      ]
     },
     "execution_count": 27,
     "metadata": {},
     "output_type": "execute_result"
    },
    {
     "data": {
      "image/png": "[encoded data removed]",
      "text/plain": [
       "<Figure size 640x480 with 1 Axes>"
      ]
     },
     "metadata": {},
     "output_type": "display_data"
    }
   ],
   "source": [
    "sns.boxplot(data.out_avg_glucose_level1)"
   ]
  },
  {
   "cell_type": "code",
   "execution_count": 28,
   "id": "f92f4a6b",
   "metadata": {
    "execution": {
     "iopub.execute_input": "2023-04-27T15:48:45.596440Z",
     "iopub.status.busy": "2023-04-27T15:48:45.595961Z",
     "iopub.status.idle": "2023-04-27T15:48:45.923652Z",
     "shell.execute_reply": "2023-04-27T15:48:45.921914Z"
    },
    "papermill": {
     "duration": 0.347254,
     "end_time": "2023-04-27T15:48:45.927203",
     "exception": false,
     "start_time": "2023-04-27T15:48:45.579949",
     "status": "completed"
    },
    "tags": []
   },
   "outputs": [
    {
     "name": "stderr",
     "output_type": "stream",
     "text": [
      "/opt/conda/lib/python3.7/site-packages/ipykernel_launcher.py:1: UserWarning: \n",
      "\n",
      "`distplot` is a deprecated function and will be removed in seaborn v0.14.0.\n",
      "\n",
      "Please adapt your code to use either `displot` (a figure-level function with\n",
      "similar flexibility) or `histplot` (an axes-level function for histograms).\n",
      "\n",
      "For a guide to updating your code to use the new functions, please see\n",
      "https://gist.github.com/mwaskom/de44147ed2974457ad6372750bbe5751\n",
      "\n",
      "  \"\"\"Entry point for launching an IPython kernel.\n"
     ]
    },
    {
     "data": {
      "text/plain": [
       "<AxesSubplot:xlabel='out_avg_glucose_level1', ylabel='Density'>"
      ]
     },
     "execution_count": 28,
     "metadata": {},
     "output_type": "execute_result"
    },
    {
     "data": {
      "image/png": "[encoded data removed]",
      "text/plain": [
       "<Figure size 640x480 with 1 Axes>"
      ]
     },
     "metadata": {},
     "output_type": "display_data"
    }
   ],
   "source": [
    "sns.distplot(data.out_avg_glucose_level1)"
   ]
  },
  {
   "cell_type": "code",
   "execution_count": 29,
   "id": "fa022766",
   "metadata": {
    "execution": {
     "iopub.execute_input": "2023-04-27T15:48:45.961409Z",
     "iopub.status.busy": "2023-04-27T15:48:45.960930Z",
     "iopub.status.idle": "2023-04-27T15:48:47.320931Z",
     "shell.execute_reply": "2023-04-27T15:48:47.319469Z"
    },
    "papermill": {
     "duration": 1.380031,
     "end_time": "2023-04-27T15:48:47.323808",
     "exception": false,
     "start_time": "2023-04-27T15:48:45.943777",
     "status": "completed"
    },
    "tags": []
   },
   "outputs": [
    {
     "name": "stdout",
     "output_type": "stream",
     "text": [
      "outlier in dataset is [228.69, 233.29, 228.7, 228.56, 226.98, 231.61, 231.56, 229.92, 227.1, 228.08, 231.19, 232.89, 227.91, 229.2, 230.68, 229.86, 227.28, 228.7, 227.51, 226.93, 231.76, 227.16, 230.59, 229.21, 228.42, 231.69, 226.88, 227.81, 231.5, 232.81, 229.58, 227.04, 227.94, 231.95, 227.98, 227.74, 227.96, 231.71, 233.3, 232.12, 230.78, 227.89, 231.43, 228.2, 228.92, 227.68, 228.05, 231.31, 233.47, 231.15, 232.64, 229.94, 228.26, 230.74, 228.5, 232.29, 229.73, 227.23, 232.78, 231.54, 231.72]\n",
      "minimum of the outlier list 226.88\n",
      "Median of the column excluding outliers--> 91.535\n"
     ]
    }
   ],
   "source": [
    "threshold = 3\n",
    "outlier = []\n",
    "for i in data['out_avg_glucose_level1']:\n",
    "    z = (i-data['out_avg_glucose_level1'].mean())/data['out_avg_glucose_level1'].std()\n",
    "    if z > threshold:\n",
    "        outlier.append(i)\n",
    "print('outlier in dataset is', outlier)\n",
    "print('minimum of the outlier list', min(outlier))\n",
    "## calculate the median for the column excluding the outlier\n",
    "med = data.loc[data['out_avg_glucose_level1']<= min(outlier), 'out_avg_glucose_level1'].median()\n",
    "print('Median of the column excluding outliers-->',med)\n",
    "f = lambda x: med if x>= min(outlier) else x\n",
    "data['out_avg_glucose_level2'] = data['out_avg_glucose_level1'].map(f)\n",
    "max(data['out_avg_glucose_level2'])\n",
    "data.drop(['out_avg_glucose_level1'], axis=1,inplace = True)"
   ]
  },
  {
   "cell_type": "code",
   "execution_count": 30,
   "id": "7a8caed7",
   "metadata": {
    "execution": {
     "iopub.execute_input": "2023-04-27T15:48:47.358701Z",
     "iopub.status.busy": "2023-04-27T15:48:47.358277Z",
     "iopub.status.idle": "2023-04-27T15:48:47.634388Z",
     "shell.execute_reply": "2023-04-27T15:48:47.633099Z"
    },
    "papermill": {
     "duration": 0.296607,
     "end_time": "2023-04-27T15:48:47.637228",
     "exception": false,
     "start_time": "2023-04-27T15:48:47.340621",
     "status": "completed"
    },
    "tags": []
   },
   "outputs": [
    {
     "name": "stderr",
     "output_type": "stream",
     "text": [
      "/opt/conda/lib/python3.7/site-packages/ipykernel_launcher.py:1: UserWarning: \n",
      "\n",
      "`distplot` is a deprecated function and will be removed in seaborn v0.14.0.\n",
      "\n",
      "Please adapt your code to use either `displot` (a figure-level function with\n",
      "similar flexibility) or `histplot` (an axes-level function for histograms).\n",
      "\n",
      "For a guide to updating your code to use the new functions, please see\n",
      "https://gist.github.com/mwaskom/de44147ed2974457ad6372750bbe5751\n",
      "\n",
      "  \"\"\"Entry point for launching an IPython kernel.\n"
     ]
    },
    {
     "data": {
      "text/plain": [
       "<AxesSubplot:xlabel='out_avg_glucose_level2', ylabel='Density'>"
      ]
     },
     "execution_count": 30,
     "metadata": {},
     "output_type": "execute_result"
    },
    {
     "data": {
      "image/png": "[encoded data removed]",
      "text/plain": [
       "<Figure size 640x480 with 1 Axes>"
      ]
     },
     "metadata": {},
     "output_type": "display_data"
    }
   ],
   "source": [
    "sns.distplot(data.out_avg_glucose_level2)"
   ]
  },
  {
   "cell_type": "code",
   "execution_count": 31,
   "id": "6a99877e",
   "metadata": {
    "execution": {
     "iopub.execute_input": "2023-04-27T15:48:47.671751Z",
     "iopub.status.busy": "2023-04-27T15:48:47.671329Z",
     "iopub.status.idle": "2023-04-27T15:48:47.815566Z",
     "shell.execute_reply": "2023-04-27T15:48:47.813420Z"
    },
    "papermill": {
     "duration": 0.166585,
     "end_time": "2023-04-27T15:48:47.820074",
     "exception": false,
     "start_time": "2023-04-27T15:48:47.653489",
     "status": "completed"
    },
    "tags": []
   },
   "outputs": [
    {
     "data": {
      "text/plain": [
       "<AxesSubplot:>"
      ]
     },
     "execution_count": 31,
     "metadata": {},
     "output_type": "execute_result"
    },
    {
     "data": {
      "image/png": "[encoded data removed]",
      "text/plain": [
       "<Figure size 640x480 with 1 Axes>"
      ]
     },
     "metadata": {},
     "output_type": "display_data"
    }
   ],
   "source": [
    "sns.boxplot(data.out_avg_glucose_level2)"
   ]
  },
  {
   "cell_type": "code",
   "execution_count": 32,
   "id": "96ec37d4",
   "metadata": {
    "execution": {
     "iopub.execute_input": "2023-04-27T15:48:47.863257Z",
     "iopub.status.busy": "2023-04-27T15:48:47.862433Z",
     "iopub.status.idle": "2023-04-27T15:48:48.200849Z",
     "shell.execute_reply": "2023-04-27T15:48:48.199569Z"
    },
    "papermill": {
     "duration": 0.360123,
     "end_time": "2023-04-27T15:48:48.203724",
     "exception": false,
     "start_time": "2023-04-27T15:48:47.843601",
     "status": "completed"
    },
    "tags": []
   },
   "outputs": [],
   "source": [
    "from xgboost import XGBClassifier\n",
    "from sklearn.model_selection import train_test_split\n",
    "from sklearn.metrics import accuracy_score"
   ]
  },
  {
   "cell_type": "code",
   "execution_count": 33,
   "id": "044a8a0a",
   "metadata": {
    "execution": {
     "iopub.execute_input": "2023-04-27T15:48:48.240464Z",
     "iopub.status.busy": "2023-04-27T15:48:48.239511Z",
     "iopub.status.idle": "2023-04-27T15:48:48.274853Z",
     "shell.execute_reply": "2023-04-27T15:48:48.273596Z"
    },
    "papermill": {
     "duration": 0.056681,
     "end_time": "2023-04-27T15:48:48.277169",
     "exception": false,
     "start_time": "2023-04-27T15:48:48.220488",
     "status": "completed"
    },
    "tags": []
   },
   "outputs": [
    {
     "data": {
      "text/html": [
       "<div>\n",
       "<style scoped>\n",
       "    .dataframe tbody tr th:only-of-type {\n",
       "        vertical-align: middle;\n",
       "    }\n",
       "\n",
       "    .dataframe tbody tr th {\n",
       "        vertical-align: top;\n",
       "    }\n",
       "\n",
       "    .dataframe thead th {\n",
       "        text-align: right;\n",
       "    }\n",
       "</style>\n",
       "<table border=\"1\" class=\"dataframe\">\n",
       "  <thead>\n",
       "    <tr style=\"text-align: right;\">\n",
       "      <th></th>\n",
       "      <th>hypertension_no</th>\n",
       "      <th>hypertension_yes</th>\n",
       "      <th>heart_disease_no</th>\n",
       "      <th>heart_disease_yes</th>\n",
       "      <th>ever_married_No</th>\n",
       "      <th>ever_married_Yes</th>\n",
       "      <th>work_type_Govt_job</th>\n",
       "      <th>work_type_Never_worked</th>\n",
       "      <th>work_type_Private</th>\n",
       "      <th>work_type_Self-employed</th>\n",
       "      <th>work_type_children</th>\n",
       "      <th>Residence_type_Rural</th>\n",
       "      <th>Residence_type_Urban</th>\n",
       "      <th>smoking_status_Unknown</th>\n",
       "      <th>smoking_status_formerly smoked</th>\n",
       "      <th>smoking_status_never smoked</th>\n",
       "      <th>smoking_status_smokes</th>\n",
       "    </tr>\n",
       "  </thead>\n",
       "  <tbody>\n",
       "    <tr>\n",
       "      <th>0</th>\n",
       "      <td>1</td>\n",
       "      <td>0</td>\n",
       "      <td>0</td>\n",
       "      <td>1</td>\n",
       "      <td>0</td>\n",
       "      <td>1</td>\n",
       "      <td>0</td>\n",
       "      <td>0</td>\n",
       "      <td>1</td>\n",
       "      <td>0</td>\n",
       "      <td>0</td>\n",
       "      <td>0</td>\n",
       "      <td>1</td>\n",
       "      <td>0</td>\n",
       "      <td>1</td>\n",
       "      <td>0</td>\n",
       "      <td>0</td>\n",
       "    </tr>\n",
       "    <tr>\n",
       "      <th>1</th>\n",
       "      <td>1</td>\n",
       "      <td>0</td>\n",
       "      <td>1</td>\n",
       "      <td>0</td>\n",
       "      <td>0</td>\n",
       "      <td>1</td>\n",
       "      <td>0</td>\n",
       "      <td>0</td>\n",
       "      <td>0</td>\n",
       "      <td>1</td>\n",
       "      <td>0</td>\n",
       "      <td>1</td>\n",
       "      <td>0</td>\n",
       "      <td>0</td>\n",
       "      <td>0</td>\n",
       "      <td>1</td>\n",
       "      <td>0</td>\n",
       "    </tr>\n",
       "    <tr>\n",
       "      <th>2</th>\n",
       "      <td>1</td>\n",
       "      <td>0</td>\n",
       "      <td>0</td>\n",
       "      <td>1</td>\n",
       "      <td>0</td>\n",
       "      <td>1</td>\n",
       "      <td>0</td>\n",
       "      <td>0</td>\n",
       "      <td>1</td>\n",
       "      <td>0</td>\n",
       "      <td>0</td>\n",
       "      <td>1</td>\n",
       "      <td>0</td>\n",
       "      <td>0</td>\n",
       "      <td>0</td>\n",
       "      <td>1</td>\n",
       "      <td>0</td>\n",
       "    </tr>\n",
       "    <tr>\n",
       "      <th>3</th>\n",
       "      <td>1</td>\n",
       "      <td>0</td>\n",
       "      <td>1</td>\n",
       "      <td>0</td>\n",
       "      <td>0</td>\n",
       "      <td>1</td>\n",
       "      <td>0</td>\n",
       "      <td>0</td>\n",
       "      <td>1</td>\n",
       "      <td>0</td>\n",
       "      <td>0</td>\n",
       "      <td>0</td>\n",
       "      <td>1</td>\n",
       "      <td>0</td>\n",
       "      <td>0</td>\n",
       "      <td>0</td>\n",
       "      <td>1</td>\n",
       "    </tr>\n",
       "    <tr>\n",
       "      <th>4</th>\n",
       "      <td>0</td>\n",
       "      <td>1</td>\n",
       "      <td>1</td>\n",
       "      <td>0</td>\n",
       "      <td>0</td>\n",
       "      <td>1</td>\n",
       "      <td>0</td>\n",
       "      <td>0</td>\n",
       "      <td>0</td>\n",
       "      <td>1</td>\n",
       "      <td>0</td>\n",
       "      <td>1</td>\n",
       "      <td>0</td>\n",
       "      <td>0</td>\n",
       "      <td>0</td>\n",
       "      <td>1</td>\n",
       "      <td>0</td>\n",
       "    </tr>\n",
       "    <tr>\n",
       "      <th>...</th>\n",
       "      <td>...</td>\n",
       "      <td>...</td>\n",
       "      <td>...</td>\n",
       "      <td>...</td>\n",
       "      <td>...</td>\n",
       "      <td>...</td>\n",
       "      <td>...</td>\n",
       "      <td>...</td>\n",
       "      <td>...</td>\n",
       "      <td>...</td>\n",
       "      <td>...</td>\n",
       "      <td>...</td>\n",
       "      <td>...</td>\n",
       "      <td>...</td>\n",
       "      <td>...</td>\n",
       "      <td>...</td>\n",
       "      <td>...</td>\n",
       "    </tr>\n",
       "    <tr>\n",
       "      <th>5105</th>\n",
       "      <td>0</td>\n",
       "      <td>1</td>\n",
       "      <td>1</td>\n",
       "      <td>0</td>\n",
       "      <td>0</td>\n",
       "      <td>1</td>\n",
       "      <td>0</td>\n",
       "      <td>0</td>\n",
       "      <td>1</td>\n",
       "      <td>0</td>\n",
       "      <td>0</td>\n",
       "      <td>0</td>\n",
       "      <td>1</td>\n",
       "      <td>0</td>\n",
       "      <td>0</td>\n",
       "      <td>1</td>\n",
       "      <td>0</td>\n",
       "    </tr>\n",
       "    <tr>\n",
       "      <th>5106</th>\n",
       "      <td>1</td>\n",
       "      <td>0</td>\n",
       "      <td>1</td>\n",
       "      <td>0</td>\n",
       "      <td>0</td>\n",
       "      <td>1</td>\n",
       "      <td>0</td>\n",
       "      <td>0</td>\n",
       "      <td>0</td>\n",
       "      <td>1</td>\n",
       "      <td>0</td>\n",
       "      <td>0</td>\n",
       "      <td>1</td>\n",
       "      <td>0</td>\n",
       "      <td>0</td>\n",
       "      <td>1</td>\n",
       "      <td>0</td>\n",
       "    </tr>\n",
       "    <tr>\n",
       "      <th>5107</th>\n",
       "      <td>1</td>\n",
       "      <td>0</td>\n",
       "      <td>1</td>\n",
       "      <td>0</td>\n",
       "      <td>0</td>\n",
       "      <td>1</td>\n",
       "      <td>0</td>\n",
       "      <td>0</td>\n",
       "      <td>0</td>\n",
       "      <td>1</td>\n",
       "      <td>0</td>\n",
       "      <td>1</td>\n",
       "      <td>0</td>\n",
       "      <td>0</td>\n",
       "      <td>0</td>\n",
       "      <td>1</td>\n",
       "      <td>0</td>\n",
       "    </tr>\n",
       "    <tr>\n",
       "      <th>5108</th>\n",
       "      <td>1</td>\n",
       "      <td>0</td>\n",
       "      <td>1</td>\n",
       "      <td>0</td>\n",
       "      <td>0</td>\n",
       "      <td>1</td>\n",
       "      <td>0</td>\n",
       "      <td>0</td>\n",
       "      <td>1</td>\n",
       "      <td>0</td>\n",
       "      <td>0</td>\n",
       "      <td>1</td>\n",
       "      <td>0</td>\n",
       "      <td>0</td>\n",
       "      <td>1</td>\n",
       "      <td>0</td>\n",
       "      <td>0</td>\n",
       "    </tr>\n",
       "    <tr>\n",
       "      <th>5109</th>\n",
       "      <td>1</td>\n",
       "      <td>0</td>\n",
       "      <td>1</td>\n",
       "      <td>0</td>\n",
       "      <td>0</td>\n",
       "      <td>1</td>\n",
       "      <td>1</td>\n",
       "      <td>0</td>\n",
       "      <td>0</td>\n",
       "      <td>0</td>\n",
       "      <td>0</td>\n",
       "      <td>0</td>\n",
       "      <td>1</td>\n",
       "      <td>1</td>\n",
       "      <td>0</td>\n",
       "      <td>0</td>\n",
       "      <td>0</td>\n",
       "    </tr>\n",
       "  </tbody>\n",
       "</table>\n",
       "<p>5110 rows × 17 columns</p>\n",
       "</div>"
      ],
      "text/plain": [
       "      hypertension_no  hypertension_yes  heart_disease_no  heart_disease_yes  \\\n",
       "0                   1                 0                 0                  1   \n",
       "1                   1                 0                 1                  0   \n",
       "2                   1                 0                 0                  1   \n",
       "3                   1                 0                 1                  0   \n",
       "4                   0                 1                 1                  0   \n",
       "...               ...               ...               ...                ...   \n",
       "5105                0                 1                 1                  0   \n",
       "5106                1                 0                 1                  0   \n",
       "5107                1                 0                 1                  0   \n",
       "5108                1                 0                 1                  0   \n",
       "5109                1                 0                 1                  0   \n",
       "\n",
       "      ever_married_No  ever_married_Yes  work_type_Govt_job  \\\n",
       "0                   0                 1                   0   \n",
       "1                   0                 1                   0   \n",
       "2                   0                 1                   0   \n",
       "3                   0                 1                   0   \n",
       "4                   0                 1                   0   \n",
       "...               ...               ...                 ...   \n",
       "5105                0                 1                   0   \n",
       "5106                0                 1                   0   \n",
       "5107                0                 1                   0   \n",
       "5108                0                 1                   0   \n",
       "5109                0                 1                   1   \n",
       "\n",
       "      work_type_Never_worked  work_type_Private  work_type_Self-employed  \\\n",
       "0                          0                  1                        0   \n",
       "1                          0                  0                        1   \n",
       "2                          0                  1                        0   \n",
       "3                          0                  1                        0   \n",
       "4                          0                  0                        1   \n",
       "...                      ...                ...                      ...   \n",
       "5105                       0                  1                        0   \n",
       "5106                       0                  0                        1   \n",
       "5107                       0                  0                        1   \n",
       "5108                       0                  1                        0   \n",
       "5109                       0                  0                        0   \n",
       "\n",
       "      work_type_children  Residence_type_Rural  Residence_type_Urban  \\\n",
       "0                      0                     0                     1   \n",
       "1                      0                     1                     0   \n",
       "2                      0                     1                     0   \n",
       "3                      0                     0                     1   \n",
       "4                      0                     1                     0   \n",
       "...                  ...                   ...                   ...   \n",
       "5105                   0                     0                     1   \n",
       "5106                   0                     0                     1   \n",
       "5107                   0                     1                     0   \n",
       "5108                   0                     1                     0   \n",
       "5109                   0                     0                     1   \n",
       "\n",
       "      smoking_status_Unknown  smoking_status_formerly smoked  \\\n",
       "0                          0                               1   \n",
       "1                          0                               0   \n",
       "2                          0                               0   \n",
       "3                          0                               0   \n",
       "4                          0                               0   \n",
       "...                      ...                             ...   \n",
       "5105                       0                               0   \n",
       "5106                       0                               0   \n",
       "5107                       0                               0   \n",
       "5108                       0                               1   \n",
       "5109                       1                               0   \n",
       "\n",
       "      smoking_status_never smoked  smoking_status_smokes  \n",
       "0                               0                      0  \n",
       "1                               1                      0  \n",
       "2                               1                      0  \n",
       "3                               0                      1  \n",
       "4                               1                      0  \n",
       "...                           ...                    ...  \n",
       "5105                            1                      0  \n",
       "5106                            1                      0  \n",
       "5107                            1                      0  \n",
       "5108                            0                      0  \n",
       "5109                            0                      0  \n",
       "\n",
       "[5110 rows x 17 columns]"
      ]
     },
     "execution_count": 33,
     "metadata": {},
     "output_type": "execute_result"
    }
   ],
   "source": [
    "dummified_data = pd.get_dummies(data[['hypertension','heart_disease','ever_married','work_type','Residence_type','smoking_status']])\n",
    "dummified_data"
   ]
  },
  {
   "cell_type": "code",
   "execution_count": 34,
   "id": "d5c31ccb",
   "metadata": {
    "execution": {
     "iopub.execute_input": "2023-04-27T15:48:48.316701Z",
     "iopub.status.busy": "2023-04-27T15:48:48.315568Z",
     "iopub.status.idle": "2023-04-27T15:48:48.340737Z",
     "shell.execute_reply": "2023-04-27T15:48:48.338519Z"
    },
    "papermill": {
     "duration": 0.04858,
     "end_time": "2023-04-27T15:48:48.343800",
     "exception": false,
     "start_time": "2023-04-27T15:48:48.295220",
     "status": "completed"
    },
    "tags": []
   },
   "outputs": [
    {
     "data": {
      "text/html": [
       "<div>\n",
       "<style scoped>\n",
       "    .dataframe tbody tr th:only-of-type {\n",
       "        vertical-align: middle;\n",
       "    }\n",
       "\n",
       "    .dataframe tbody tr th {\n",
       "        vertical-align: top;\n",
       "    }\n",
       "\n",
       "    .dataframe thead th {\n",
       "        text-align: right;\n",
       "    }\n",
       "</style>\n",
       "<table border=\"1\" class=\"dataframe\">\n",
       "  <thead>\n",
       "    <tr style=\"text-align: right;\">\n",
       "      <th></th>\n",
       "      <th>hypertension_no</th>\n",
       "      <th>hypertension_yes</th>\n",
       "      <th>heart_disease_no</th>\n",
       "      <th>heart_disease_yes</th>\n",
       "      <th>ever_married_No</th>\n",
       "      <th>ever_married_Yes</th>\n",
       "      <th>work_type_Govt_job</th>\n",
       "      <th>work_type_Never_worked</th>\n",
       "      <th>work_type_Private</th>\n",
       "      <th>work_type_Self-employed</th>\n",
       "      <th>...</th>\n",
       "      <th>Residence_type_Rural</th>\n",
       "      <th>Residence_type_Urban</th>\n",
       "      <th>smoking_status_Unknown</th>\n",
       "      <th>smoking_status_formerly smoked</th>\n",
       "      <th>smoking_status_never smoked</th>\n",
       "      <th>smoking_status_smokes</th>\n",
       "      <th>out_avg_glucose_level2</th>\n",
       "      <th>bmi</th>\n",
       "      <th>age</th>\n",
       "      <th>stroke</th>\n",
       "    </tr>\n",
       "  </thead>\n",
       "  <tbody>\n",
       "    <tr>\n",
       "      <th>0</th>\n",
       "      <td>1</td>\n",
       "      <td>0</td>\n",
       "      <td>0</td>\n",
       "      <td>1</td>\n",
       "      <td>0</td>\n",
       "      <td>1</td>\n",
       "      <td>0</td>\n",
       "      <td>0</td>\n",
       "      <td>1</td>\n",
       "      <td>0</td>\n",
       "      <td>...</td>\n",
       "      <td>0</td>\n",
       "      <td>1</td>\n",
       "      <td>0</td>\n",
       "      <td>1</td>\n",
       "      <td>0</td>\n",
       "      <td>0</td>\n",
       "      <td>91.535</td>\n",
       "      <td>36.6</td>\n",
       "      <td>67.0</td>\n",
       "      <td>1</td>\n",
       "    </tr>\n",
       "    <tr>\n",
       "      <th>1</th>\n",
       "      <td>1</td>\n",
       "      <td>0</td>\n",
       "      <td>1</td>\n",
       "      <td>0</td>\n",
       "      <td>0</td>\n",
       "      <td>1</td>\n",
       "      <td>0</td>\n",
       "      <td>0</td>\n",
       "      <td>0</td>\n",
       "      <td>1</td>\n",
       "      <td>...</td>\n",
       "      <td>1</td>\n",
       "      <td>0</td>\n",
       "      <td>0</td>\n",
       "      <td>0</td>\n",
       "      <td>1</td>\n",
       "      <td>0</td>\n",
       "      <td>202.210</td>\n",
       "      <td>28.1</td>\n",
       "      <td>61.0</td>\n",
       "      <td>1</td>\n",
       "    </tr>\n",
       "    <tr>\n",
       "      <th>2</th>\n",
       "      <td>1</td>\n",
       "      <td>0</td>\n",
       "      <td>0</td>\n",
       "      <td>1</td>\n",
       "      <td>0</td>\n",
       "      <td>1</td>\n",
       "      <td>0</td>\n",
       "      <td>0</td>\n",
       "      <td>1</td>\n",
       "      <td>0</td>\n",
       "      <td>...</td>\n",
       "      <td>1</td>\n",
       "      <td>0</td>\n",
       "      <td>0</td>\n",
       "      <td>0</td>\n",
       "      <td>1</td>\n",
       "      <td>0</td>\n",
       "      <td>105.920</td>\n",
       "      <td>32.5</td>\n",
       "      <td>80.0</td>\n",
       "      <td>1</td>\n",
       "    </tr>\n",
       "    <tr>\n",
       "      <th>3</th>\n",
       "      <td>1</td>\n",
       "      <td>0</td>\n",
       "      <td>1</td>\n",
       "      <td>0</td>\n",
       "      <td>0</td>\n",
       "      <td>1</td>\n",
       "      <td>0</td>\n",
       "      <td>0</td>\n",
       "      <td>1</td>\n",
       "      <td>0</td>\n",
       "      <td>...</td>\n",
       "      <td>0</td>\n",
       "      <td>1</td>\n",
       "      <td>0</td>\n",
       "      <td>0</td>\n",
       "      <td>0</td>\n",
       "      <td>1</td>\n",
       "      <td>171.230</td>\n",
       "      <td>34.4</td>\n",
       "      <td>49.0</td>\n",
       "      <td>1</td>\n",
       "    </tr>\n",
       "    <tr>\n",
       "      <th>4</th>\n",
       "      <td>0</td>\n",
       "      <td>1</td>\n",
       "      <td>1</td>\n",
       "      <td>0</td>\n",
       "      <td>0</td>\n",
       "      <td>1</td>\n",
       "      <td>0</td>\n",
       "      <td>0</td>\n",
       "      <td>0</td>\n",
       "      <td>1</td>\n",
       "      <td>...</td>\n",
       "      <td>1</td>\n",
       "      <td>0</td>\n",
       "      <td>0</td>\n",
       "      <td>0</td>\n",
       "      <td>1</td>\n",
       "      <td>0</td>\n",
       "      <td>174.120</td>\n",
       "      <td>24.0</td>\n",
       "      <td>79.0</td>\n",
       "      <td>1</td>\n",
       "    </tr>\n",
       "  </tbody>\n",
       "</table>\n",
       "<p>5 rows × 21 columns</p>\n",
       "</div>"
      ],
      "text/plain": [
       "   hypertension_no  hypertension_yes  heart_disease_no  heart_disease_yes  \\\n",
       "0                1                 0                 0                  1   \n",
       "1                1                 0                 1                  0   \n",
       "2                1                 0                 0                  1   \n",
       "3                1                 0                 1                  0   \n",
       "4                0                 1                 1                  0   \n",
       "\n",
       "   ever_married_No  ever_married_Yes  work_type_Govt_job  \\\n",
       "0                0                 1                   0   \n",
       "1                0                 1                   0   \n",
       "2                0                 1                   0   \n",
       "3                0                 1                   0   \n",
       "4                0                 1                   0   \n",
       "\n",
       "   work_type_Never_worked  work_type_Private  work_type_Self-employed  ...  \\\n",
       "0                       0                  1                        0  ...   \n",
       "1                       0                  0                        1  ...   \n",
       "2                       0                  1                        0  ...   \n",
       "3                       0                  1                        0  ...   \n",
       "4                       0                  0                        1  ...   \n",
       "\n",
       "   Residence_type_Rural  Residence_type_Urban  smoking_status_Unknown  \\\n",
       "0                     0                     1                       0   \n",
       "1                     1                     0                       0   \n",
       "2                     1                     0                       0   \n",
       "3                     0                     1                       0   \n",
       "4                     1                     0                       0   \n",
       "\n",
       "   smoking_status_formerly smoked  smoking_status_never smoked  \\\n",
       "0                               1                            0   \n",
       "1                               0                            1   \n",
       "2                               0                            1   \n",
       "3                               0                            0   \n",
       "4                               0                            1   \n",
       "\n",
       "   smoking_status_smokes  out_avg_glucose_level2   bmi   age  stroke  \n",
       "0                      0                  91.535  36.6  67.0       1  \n",
       "1                      0                 202.210  28.1  61.0       1  \n",
       "2                      0                 105.920  32.5  80.0       1  \n",
       "3                      1                 171.230  34.4  49.0       1  \n",
       "4                      0                 174.120  24.0  79.0       1  \n",
       "\n",
       "[5 rows x 21 columns]"
      ]
     },
     "execution_count": 34,
     "metadata": {},
     "output_type": "execute_result"
    }
   ],
   "source": [
    "data1 = pd.concat([dummified_data,data[['out_avg_glucose_level2','bmi','age','stroke']]],axis=1, join='inner')\n",
    "data1.head()"
   ]
  },
  {
   "cell_type": "code",
   "execution_count": 35,
   "id": "14683867",
   "metadata": {
    "execution": {
     "iopub.execute_input": "2023-04-27T15:48:48.381293Z",
     "iopub.status.busy": "2023-04-27T15:48:48.380834Z",
     "iopub.status.idle": "2023-04-27T15:48:48.397350Z",
     "shell.execute_reply": "2023-04-27T15:48:48.395794Z"
    },
    "papermill": {
     "duration": 0.038351,
     "end_time": "2023-04-27T15:48:48.399944",
     "exception": false,
     "start_time": "2023-04-27T15:48:48.361593",
     "status": "completed"
    },
    "tags": []
   },
   "outputs": [
    {
     "name": "stdout",
     "output_type": "stream",
     "text": [
      "<class 'pandas.core.frame.DataFrame'>\n",
      "RangeIndex: 5110 entries, 0 to 5109\n",
      "Data columns (total 21 columns):\n",
      " #   Column                          Non-Null Count  Dtype  \n",
      "---  ------                          --------------  -----  \n",
      " 0   hypertension_no                 5110 non-null   uint8  \n",
      " 1   hypertension_yes                5110 non-null   uint8  \n",
      " 2   heart_disease_no                5110 non-null   uint8  \n",
      " 3   heart_disease_yes               5110 non-null   uint8  \n",
      " 4   ever_married_No                 5110 non-null   uint8  \n",
      " 5   ever_married_Yes                5110 non-null   uint8  \n",
      " 6   work_type_Govt_job              5110 non-null   uint8  \n",
      " 7   work_type_Never_worked          5110 non-null   uint8  \n",
      " 8   work_type_Private               5110 non-null   uint8  \n",
      " 9   work_type_Self-employed         5110 non-null   uint8  \n",
      " 10  work_type_children              5110 non-null   uint8  \n",
      " 11  Residence_type_Rural            5110 non-null   uint8  \n",
      " 12  Residence_type_Urban            5110 non-null   uint8  \n",
      " 13  smoking_status_Unknown          5110 non-null   uint8  \n",
      " 14  smoking_status_formerly smoked  5110 non-null   uint8  \n",
      " 15  smoking_status_never smoked     5110 non-null   uint8  \n",
      " 16  smoking_status_smokes           5110 non-null   uint8  \n",
      " 17  out_avg_glucose_level2          5110 non-null   float64\n",
      " 18  bmi                             5110 non-null   float64\n",
      " 19  age                             5110 non-null   float64\n",
      " 20  stroke                          5110 non-null   int64  \n",
      "dtypes: float64(3), int64(1), uint8(17)\n",
      "memory usage: 244.6 KB\n"
     ]
    }
   ],
   "source": [
    "data1.info()"
   ]
  },
  {
   "cell_type": "code",
   "execution_count": 36,
   "id": "8e57629f",
   "metadata": {
    "execution": {
     "iopub.execute_input": "2023-04-27T15:48:48.437580Z",
     "iopub.status.busy": "2023-04-27T15:48:48.437125Z",
     "iopub.status.idle": "2023-04-27T15:48:48.445553Z",
     "shell.execute_reply": "2023-04-27T15:48:48.444395Z"
    },
    "papermill": {
     "duration": 0.030594,
     "end_time": "2023-04-27T15:48:48.448162",
     "exception": false,
     "start_time": "2023-04-27T15:48:48.417568",
     "status": "completed"
    },
    "tags": []
   },
   "outputs": [],
   "source": [
    "X = data1[['hypertension_no','hypertension_yes','heart_disease_no','heart_disease_yes','ever_married_No','ever_married_Yes','work_type_Govt_job','work_type_Never_worked','work_type_Private','work_type_Self-employed','work_type_children','Residence_type_Rural','Residence_type_Urban','smoking_status_Unknown','smoking_status_formerly smoked','smoking_status_never smoked','smoking_status_smokes','out_avg_glucose_level2','bmi','age']]\n",
    "Y = data1['stroke']"
   ]
  },
  {
   "cell_type": "code",
   "execution_count": 37,
   "id": "b566d103",
   "metadata": {
    "execution": {
     "iopub.execute_input": "2023-04-27T15:48:48.485770Z",
     "iopub.status.busy": "2023-04-27T15:48:48.485338Z",
     "iopub.status.idle": "2023-04-27T15:48:48.496505Z",
     "shell.execute_reply": "2023-04-27T15:48:48.494732Z"
    },
    "papermill": {
     "duration": 0.033266,
     "end_time": "2023-04-27T15:48:48.499203",
     "exception": false,
     "start_time": "2023-04-27T15:48:48.465937",
     "status": "completed"
    },
    "tags": []
   },
   "outputs": [],
   "source": [
    "X_train, X_test, y_train, y_test = train_test_split(X, Y, test_size = 0.2, random_state = 0)"
   ]
  },
  {
   "cell_type": "code",
   "execution_count": 38,
   "id": "9322ad3f",
   "metadata": {
    "execution": {
     "iopub.execute_input": "2023-04-27T15:48:48.536817Z",
     "iopub.status.busy": "2023-04-27T15:48:48.536397Z",
     "iopub.status.idle": "2023-04-27T15:48:48.542017Z",
     "shell.execute_reply": "2023-04-27T15:48:48.540582Z"
    },
    "papermill": {
     "duration": 0.027752,
     "end_time": "2023-04-27T15:48:48.544746",
     "exception": false,
     "start_time": "2023-04-27T15:48:48.516994",
     "status": "completed"
    },
    "tags": []
   },
   "outputs": [],
   "source": [
    "from xgboost import XGBClassifier\n",
    "from sklearn.metrics import accuracy_score"
   ]
  },
  {
   "cell_type": "code",
   "execution_count": 39,
   "id": "6fa5fd87",
   "metadata": {
    "execution": {
     "iopub.execute_input": "2023-04-27T15:48:48.582076Z",
     "iopub.status.busy": "2023-04-27T15:48:48.581067Z",
     "iopub.status.idle": "2023-04-27T15:48:49.204560Z",
     "shell.execute_reply": "2023-04-27T15:48:49.201814Z"
    },
    "papermill": {
     "duration": 0.64606,
     "end_time": "2023-04-27T15:48:49.208275",
     "exception": false,
     "start_time": "2023-04-27T15:48:48.562215",
     "status": "completed"
    },
    "tags": []
   },
   "outputs": [
    {
     "data": {
      "text/plain": [
       "XGBClassifier(base_score=0.5, booster='gbtree', callbacks=None,\n",
       "              colsample_bylevel=1, colsample_bynode=1, colsample_bytree=1,\n",
       "              early_stopping_rounds=None, enable_categorical=False,\n",
       "              eval_metric=None, gamma=0, gpu_id=-1, grow_policy='depthwise',\n",
       "              importance_type=None, interaction_constraints='',\n",
       "              learning_rate=0.300000012, max_bin=256, max_cat_to_onehot=4,\n",
       "              max_delta_step=0, max_depth=6, max_leaves=0, min_child_weight=1,\n",
       "              missing=nan, monotone_constraints='()', n_estimators=100,\n",
       "              n_jobs=0, num_parallel_tree=1, predictor='auto', random_state=0,\n",
       "              reg_alpha=0, reg_lambda=1, ...)"
      ]
     },
     "execution_count": 39,
     "metadata": {},
     "output_type": "execute_result"
    }
   ],
   "source": [
    "model = XGBClassifier()\n",
    "model.fit(X_train,y_train)\n"
   ]
  },
  {
   "cell_type": "code",
   "execution_count": 40,
   "id": "b526737c",
   "metadata": {
    "execution": {
     "iopub.execute_input": "2023-04-27T15:48:49.267625Z",
     "iopub.status.busy": "2023-04-27T15:48:49.265854Z",
     "iopub.status.idle": "2023-04-27T15:48:49.295477Z",
     "shell.execute_reply": "2023-04-27T15:48:49.292958Z"
    },
    "papermill": {
     "duration": 0.064907,
     "end_time": "2023-04-27T15:48:49.298988",
     "exception": false,
     "start_time": "2023-04-27T15:48:49.234081",
     "status": "completed"
    },
    "tags": []
   },
   "outputs": [],
   "source": [
    "y_pred=model.predict(X_test)"
   ]
  },
  {
   "cell_type": "code",
   "execution_count": 41,
   "id": "3091a107",
   "metadata": {
    "execution": {
     "iopub.execute_input": "2023-04-27T15:48:49.347718Z",
     "iopub.status.busy": "2023-04-27T15:48:49.346617Z",
     "iopub.status.idle": "2023-04-27T15:48:49.355141Z",
     "shell.execute_reply": "2023-04-27T15:48:49.353989Z"
    },
    "papermill": {
     "duration": 0.031081,
     "end_time": "2023-04-27T15:48:49.357800",
     "exception": false,
     "start_time": "2023-04-27T15:48:49.326719",
     "status": "completed"
    },
    "tags": []
   },
   "outputs": [
    {
     "name": "stdout",
     "output_type": "stream",
     "text": [
      "0.9452054794520548\n"
     ]
    }
   ],
   "source": [
    "print(accuracy_score(y_test,y_pred))"
   ]
  },
  {
   "cell_type": "code",
   "execution_count": 42,
   "id": "f2ba4bc5",
   "metadata": {
    "execution": {
     "iopub.execute_input": "2023-04-27T15:48:49.397763Z",
     "iopub.status.busy": "2023-04-27T15:48:49.397290Z",
     "iopub.status.idle": "2023-04-27T15:48:49.414236Z",
     "shell.execute_reply": "2023-04-27T15:48:49.412622Z"
    },
    "papermill": {
     "duration": 0.041576,
     "end_time": "2023-04-27T15:48:49.417198",
     "exception": false,
     "start_time": "2023-04-27T15:48:49.375622",
     "status": "completed"
    },
    "tags": []
   },
   "outputs": [],
   "source": [
    "y_train_pred = model.predict(X_train)"
   ]
  },
  {
   "cell_type": "code",
   "execution_count": 43,
   "id": "1b502fb2",
   "metadata": {
    "execution": {
     "iopub.execute_input": "2023-04-27T15:48:49.457394Z",
     "iopub.status.busy": "2023-04-27T15:48:49.456152Z",
     "iopub.status.idle": "2023-04-27T15:48:49.463843Z",
     "shell.execute_reply": "2023-04-27T15:48:49.462612Z"
    },
    "papermill": {
     "duration": 0.029403,
     "end_time": "2023-04-27T15:48:49.466143",
     "exception": false,
     "start_time": "2023-04-27T15:48:49.436740",
     "status": "completed"
    },
    "tags": []
   },
   "outputs": [
    {
     "name": "stdout",
     "output_type": "stream",
     "text": [
      "0.9960861056751468\n"
     ]
    }
   ],
   "source": [
    "print(accuracy_score(y_train,y_train_pred))"
   ]
  },
  {
   "cell_type": "code",
   "execution_count": 44,
   "id": "ccb7a8b0",
   "metadata": {
    "execution": {
     "iopub.execute_input": "2023-04-27T15:48:49.503348Z",
     "iopub.status.busy": "2023-04-27T15:48:49.502885Z",
     "iopub.status.idle": "2023-04-27T15:48:49.508680Z",
     "shell.execute_reply": "2023-04-27T15:48:49.507066Z"
    },
    "papermill": {
     "duration": 0.027423,
     "end_time": "2023-04-27T15:48:49.511347",
     "exception": false,
     "start_time": "2023-04-27T15:48:49.483924",
     "status": "completed"
    },
    "tags": []
   },
   "outputs": [],
   "source": [
    "from sklearn.metrics import confusion_matrix"
   ]
  },
  {
   "cell_type": "code",
   "execution_count": 45,
   "id": "dc612103",
   "metadata": {
    "execution": {
     "iopub.execute_input": "2023-04-27T15:48:49.549119Z",
     "iopub.status.busy": "2023-04-27T15:48:49.548669Z",
     "iopub.status.idle": "2023-04-27T15:48:49.558382Z",
     "shell.execute_reply": "2023-04-27T15:48:49.557093Z"
    },
    "papermill": {
     "duration": 0.031295,
     "end_time": "2023-04-27T15:48:49.560715",
     "exception": false,
     "start_time": "2023-04-27T15:48:49.529420",
     "status": "completed"
    },
    "tags": []
   },
   "outputs": [
    {
     "name": "stdout",
     "output_type": "stream",
     "text": [
      "[[964   4]\n",
      " [ 52   2]]\n"
     ]
    }
   ],
   "source": [
    "print(confusion_matrix(y_test,y_pred))"
   ]
  },
  {
   "cell_type": "code",
   "execution_count": 46,
   "id": "eede4e6c",
   "metadata": {
    "execution": {
     "iopub.execute_input": "2023-04-27T15:48:49.599509Z",
     "iopub.status.busy": "2023-04-27T15:48:49.599046Z",
     "iopub.status.idle": "2023-04-27T15:48:49.856800Z",
     "shell.execute_reply": "2023-04-27T15:48:49.855372Z"
    },
    "papermill": {
     "duration": 0.280002,
     "end_time": "2023-04-27T15:48:49.859387",
     "exception": false,
     "start_time": "2023-04-27T15:48:49.579385",
     "status": "completed"
    },
    "tags": []
   },
   "outputs": [
    {
     "data": {
      "text/plain": [
       "<AxesSubplot:>"
      ]
     },
     "execution_count": 46,
     "metadata": {},
     "output_type": "execute_result"
    },
    {
     "data": {
      "image/png": "[encoded data removed]",
      "text/plain": [
       "<Figure size 640x480 with 2 Axes>"
      ]
     },
     "metadata": {},
     "output_type": "display_data"
    }
   ],
   "source": [
    "cf_matrix= confusion_matrix(y_test,y_pred)\n",
    "sns.heatmap(cf_matrix, annot=True)"
   ]
  },
  {
   "cell_type": "code",
   "execution_count": null,
   "id": "bf90135c",
   "metadata": {
    "papermill": {
     "duration": 0.01921,
     "end_time": "2023-04-27T15:48:49.897701",
     "exception": false,
     "start_time": "2023-04-27T15:48:49.878491",
     "status": "completed"
    },
    "tags": []
   },
   "outputs": [],
   "source": []
  }
 ],
 "metadata": {
  "kernelspec": {
   "display_name": "Python 3",
   "language": "python",
   "name": "python3"
  },
  "language_info": {
   "codemirror_mode": {
    "name": "ipython",
    "version": 3
   },
   "file_extension": ".py",
   "mimetype": "text/x-python",
   "name": "python",
   "nbconvert_exporter": "python",
   "pygments_lexer": "ipython3",
   "version": "3.7.12"
  },
  "papermill": {
   "default_parameters": {},
   "duration": 22.293447,
   "end_time": "2023-04-27T15:48:50.840802",
   "environment_variables": {},
   "exception": null,
   "input_path": "__notebook__.ipynb",
   "output_path": "__notebook__.ipynb",
   "parameters": {},
   "start_time": "2023-04-27T15:48:28.547355",
   "version": "2.4.0"
  }
 },
 "nbformat": 4,
 "nbformat_minor": 5
}
